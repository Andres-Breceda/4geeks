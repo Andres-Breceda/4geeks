{
  "cells": [
    {
      "cell_type": "markdown",
      "id": "bdfbcacc",
      "metadata": {
        "id": "bdfbcacc"
      },
      "source": [
        "![Logo de NumPy](https://github.com/4GeeksAcademy/machine-learning-prework/blob/main/02-numpy/assets/numpy_logo.png?raw=true)\n",
        "\n",
        "## Introducción a NumPy\n",
        "\n",
        "`NumPy` es un juego de palabras que significa **Python numérico** (*Numerical Python*). Es una librería de código abierto que se utiliza para llevar a cabo tareas matemáticas con altísima eficiencia. Además, introduce estructuras de datos como los arrays multidimensionales, que se pueden operar entre ellos a alto nivel, sin meterse mucho en el detalle.\n",
        "\n",
        "En concreto, las claves de esta librería son:\n",
        "\n",
        "- **Array multidimensionales**: Esta librería proporciona un objeto llamado `ndarray`, que permite almacenar y manipular grandes conjuntos de datos de forma eficiente. Los arrays pueden tener cualquier número de dimensiones.\n",
        "- **Operaciones Vectorizadas**: NumPy permite realizar operaciones matemáticas en arrays completos sin la necesidad de bucles explícitos en el código, lo que lo hace muy rápido y eficiente.\n",
        "- **Funciones matemáticas**: NumPy proporciona una amplia gama de funciones matemáticas para trabajar con arrays, incluyendo funciones trigonométricas, estadísticas, álgebra lineal, entre otras.\n",
        "- **Eficiencia**: Es mucho más rápido que la misma funcionalidad implementada directamente sobre Python nativo. Además, es muy flexible en términos de acceso y manipulación de elementos individuales o subconjuntos de arrays.\n",
        "\n",
        "NumPy es una biblioteca fundamental para el Machine Learning y la ciencia de los datos en Python. Proporciona una amplia gama de herramientas y funciones para trabajar eficientemente con datos numéricos en forma de arrays y matrices."
      ]
    },
    {
      "cell_type": "markdown",
      "id": "dc410026",
      "metadata": {
        "id": "dc410026"
      },
      "source": [
        "### Arrays\n",
        "\n",
        "Un **array** de NumPy es una estructura de datos que permite almacenar una colección de elementos, generalmente números, en una o más dimensiones.\n",
        "\n",
        "#### Array unidimensional\n",
        "\n",
        "Un array unidimensional (1D) de NumPy es una estructura de datos que contiene una secuencia de elementos en una única dimensión. Es similar a una lista en Python, pero con las ventajas de rendimiento y funcionalidad que ofrece NumPy.\n",
        "\n",
        "![Array de una dimensión](https://github.com/4GeeksAcademy/machine-learning-prework/blob/main/02-numpy/assets/1D.png?raw=true \"1D\")\n",
        "\n",
        "Un array 1D puede ser creado usando la función `array` de la librería con una lista de elementos como argumento. Por ejemplo:"
      ]
    },
    {
      "cell_type": "code",
      "execution_count": 1,
      "id": "d8a0686b",
      "metadata": {
        "id": "d8a0686b",
        "outputId": "31d2557f-cab2-4abf-f07b-826405cc4bc3",
        "colab": {
          "base_uri": "https://localhost:8080/"
        }
      },
      "outputs": [
        {
          "output_type": "execute_result",
          "data": {
            "text/plain": [
              "array([1, 2, 3])"
            ]
          },
          "metadata": {},
          "execution_count": 1
        }
      ],
      "source": [
        "import numpy as np\n",
        "\n",
        "array = np.array([1, 2, 3,])\n",
        "array"
      ]
    },
    {
      "cell_type": "markdown",
      "id": "e090f7a0",
      "metadata": {
        "id": "e090f7a0"
      },
      "source": [
        "Esto creará un array 1D con los elementos 1, 2, 3, 4 y 5. Los elementos del array deben ser del mismo tipo de datos. Si los elementos son de diferentes tipos, NumPy intentará convertirlos al mismo tipo si es posible.\n",
        "\n",
        "En un array 1D, podemos acceder a los elementos usando **índices** (*indexes*), modificarlos y realizar operaciones matemáticas en el array completo de forma eficiente. A continuación se muestran algunas operaciones que se pueden realizar utilizando el array anterior:"
      ]
    },
    {
      "cell_type": "code",
      "execution_count": null,
      "id": "a56cb1b0",
      "metadata": {
        "id": "a56cb1b0",
        "outputId": "902c3c0e-fe13-4519-e932-9df424d48bf0"
      },
      "outputs": [
        {
          "name": "stdout",
          "output_type": "stream",
          "text": [
            "3\n",
            "[1 7 3 4 5]\n",
            "[11 17 13 14 15]\n",
            "70\n"
          ]
        }
      ],
      "source": [
        "# Acceder al tercer elemento\n",
        "print(array[2])\n",
        "\n",
        "# Cambiar el valor del segundo elemento\n",
        "array[1] = 7\n",
        "print(array)\n",
        "\n",
        "# Sumar 10 a todos los elementos\n",
        "array += 10\n",
        "print(array)\n",
        "\n",
        "# Calcular la suma de los elementos\n",
        "sum_all = np.sum(array)\n",
        "print(sum_all)"
      ]
    },
    {
      "cell_type": "markdown",
      "id": "322771b1",
      "metadata": {
        "id": "322771b1"
      },
      "source": [
        "#### Array N-dimensional\n",
        "\n",
        "Un array multidimensional o n-dimensional en NumPy es una estructura de datos que organiza elementos en múltiples dimensiones (ejes). Estos arrays permiten representar estructuras de datos más complejas, como matrices (array 2D, 2 ejes), tensores (array 3D, 3 ejes) y estructuras de mayor dimensión.\n",
        "\n",
        "![Arrays de diferentes dimensiones](https://github.com/4GeeksAcademy/machine-learning-prework/blob/main/02-numpy/assets/3D.png?raw=true \"3D\")\n",
        "\n",
        "Un array N-dimensional puede ser creado también usando la función `array` de la librería. Por ejemplo, si queremos crear un array 2D:"
      ]
    },
    {
      "cell_type": "code",
      "execution_count": 11,
      "id": "2033ba3c",
      "metadata": {
        "colab": {
          "base_uri": "https://localhost:8080/"
        },
        "id": "2033ba3c",
        "outputId": "aaa22647-4a28-40c6-f8c5-f9218b1868ef"
      },
      "outputs": [
        {
          "output_type": "execute_result",
          "data": {
            "text/plain": [
              "(3, 3)"
            ]
          },
          "metadata": {},
          "execution_count": 11
        }
      ],
      "source": [
        "array_2d = np.array([[1, 2, 3], [4, 5, 6], [7, 8, 9]])\n",
        "array_2d.shape\n",
        "\n"
      ]
    },
    {
      "cell_type": "markdown",
      "id": "d3dac6c2",
      "metadata": {
        "id": "d3dac6c2"
      },
      "source": [
        "Si ahora quisiéramos crear un array 3D, tendríamos que pensar en él como una lista de matrices:"
      ]
    },
    {
      "cell_type": "code",
      "execution_count": 10,
      "id": "bc914841",
      "metadata": {
        "colab": {
          "base_uri": "https://localhost:8080/"
        },
        "id": "bc914841",
        "outputId": "28d60c56-4136-43f2-f7b1-570dd3cad620"
      },
      "outputs": [
        {
          "output_type": "execute_result",
          "data": {
            "text/plain": [
              "(2, 2, 2)"
            ]
          },
          "metadata": {},
          "execution_count": 10
        }
      ],
      "source": [
        "array_3d = np.array([[[1, 2], [3, 4]], [[5, 6], [7, 8]]])\n",
        "array_3d.shape"
      ]
    },
    {
      "cell_type": "markdown",
      "id": "da7bcb64",
      "metadata": {
        "id": "da7bcb64"
      },
      "source": [
        "Al igual que sucedía con los arrays 1D, los elementos en un array multidimensional son accesibles mediante índices, se pueden realizar operaciones con ellos, etcétera.\n",
        "\n",
        "A medida que agregamos más dimensiones, el principio básico sigue siendo el mismo: cada dimensión adicional puede considerarse como un nivel adicional de anidamiento. Sin embargo, a nivel práctico, trabajar con arrays de más de 3 o 4 dimensiones puede volverse más complejo y menos intuitivo.\n",
        "\n",
        "Los arrays n-dimensionales en NumPy permiten una gran flexibilidad y potencia para representar y manipular datos en formas más complejas, especialmente útiles en campos como la ciencia de los datos, procesamiento de imágenes y aprendizaje profundo."
      ]
    },
    {
      "cell_type": "markdown",
      "id": "d699ac98",
      "metadata": {
        "id": "d699ac98"
      },
      "source": [
        "### Funciones\n",
        "\n",
        "NumPy proporciona una gran cantidad de funciones predefinidas y que se pueden aplicar directamente sobre las estructuras de datos vistas anteriormente o las propias de Python (listas, matrices, etcétera). Algunas de las más utilizadas en el análisis de datos son:"
      ]
    },
    {
      "cell_type": "code",
      "execution_count": null,
      "id": "e7680306",
      "metadata": {
        "id": "e7680306",
        "outputId": "0b08d2a1-5957-4690-f9a3-52460c0820a0"
      },
      "outputs": [
        {
          "name": "stdout",
          "output_type": "stream",
          "text": [
            "Suma: [ 6  7  8  9 10]\n",
            "Producto: [ 3  6  9 12 15]\n",
            "Logaritmo natural: [0.         0.69314718 1.09861229 1.38629436 1.60943791]\n",
            "Exponencial: [  2.71828183   7.3890561   20.08553692  54.59815003 148.4131591 ]\n",
            "Media: 3.0\n",
            "Mediana: 3.0\n",
            "Desviación estándar: 1.4142135623730951\n",
            "Varianza: 2.0\n",
            "Máximo valor: 5\n",
            "Índice del máximo valor: 4\n",
            "Mínimo valor: 1\n",
            "Índice del mínimo valor: 0\n",
            "Suma de todos los elementos: 15\n",
            "Redondeo: [1. 2. 4. 5.]\n",
            "Entero menor (floor): [1. 2. 3. 4.]\n",
            "Entero mayor (ceil): [2. 3. 4. 5.]\n"
          ]
        }
      ],
      "source": [
        "import numpy as np\n",
        "\n",
        "# Crear un array para el ejemplo\n",
        "arr = np.array([1, 2, 3, 4, 5])\n",
        "\n",
        "# Operaciones Aritméticas\n",
        "print(\"Suma:\", np.add(arr, 5))\n",
        "print(\"Producto:\", np.multiply(arr, 3))\n",
        "\n",
        "# Logarítmicas y Exponenciales\n",
        "print(\"Logaritmo natural:\", np.log(arr))\n",
        "print(\"Exponencial:\", np.exp(arr))\n",
        "\n",
        "# Funciones Estadísticas\n",
        "print(\"Media:\", np.mean(arr))\n",
        "print(\"Mediana:\", np.median(arr))\n",
        "print(\"Desviación estándar:\", np.std(arr))\n",
        "print(\"Varianza:\", np.var(arr))\n",
        "print(\"Máximo valor:\", np.max(arr))\n",
        "print(\"Índice del máximo valor:\", np.argmax(arr))\n",
        "print(\"Mínimo valor:\", np.min(arr))\n",
        "print(\"Índice del mínimo valor:\", np.argmin(arr))\n",
        "print(\"Suma de todos los elementos:\", np.sum(arr))\n",
        "\n",
        "# Funciones de Redondeo\n",
        "arr_decimal = np.array([1.23, 2.47, 3.56, 4.89])\n",
        "print(\"Redondeo:\", np.around(arr_decimal))\n",
        "print(\"Entero menor (floor):\", np.floor(arr_decimal))\n",
        "print(\"Entero mayor (ceil):\", np.ceil(arr_decimal))"
      ]
    },
    {
      "cell_type": "markdown",
      "id": "51b5cda3",
      "metadata": {
        "id": "51b5cda3"
      },
      "source": [
        "## Ejercicios: Haz clic en \"open in colab\" para realizarlos\n",
        "\n",
        "> Solución: https://github.com/4GeeksAcademy/machine-learning-prework/blob/main/02-numpy/02.1-Intro-to-Numpy_solutions.ipynb\n",
        "\n",
        "### Creación de arrays"
      ]
    },
    {
      "cell_type": "markdown",
      "id": "e3c20b3d",
      "metadata": {
        "id": "e3c20b3d"
      },
      "source": [
        "#### Ejercicio 01:  Crea un **vector nulo** (*null vector*) que tenga 10 elementos (★☆☆)\n",
        "\n",
        "Un vector nulo es un array de una dimensión compuesto por ceros (`0`).\n",
        "\n",
        "> NOTA: Revisa la función `np.zeros` (https://numpy.org/doc/stable/reference/generated/numpy.zeros.html)"
      ]
    },
    {
      "cell_type": "code",
      "execution_count": 12,
      "id": "8a758bcf",
      "metadata": {
        "id": "8a758bcf",
        "outputId": "e72a7137-efc4-4c13-aa74-ac09c2f6041e",
        "colab": {
          "base_uri": "https://localhost:8080/"
        }
      },
      "outputs": [
        {
          "output_type": "execute_result",
          "data": {
            "text/plain": [
              "array([0., 0., 0., 0., 0., 0., 0., 0., 0., 0.])"
            ]
          },
          "metadata": {},
          "execution_count": 12
        }
      ],
      "source": [
        "np.zeros((10))"
      ]
    },
    {
      "cell_type": "markdown",
      "id": "6cbe7954",
      "metadata": {
        "id": "6cbe7954"
      },
      "source": [
        "#### Ejercicio 02: Crea un vector de unos que tenga 10 elementos (★☆☆)\n",
        "\n",
        "> NOTA: Revisa la función `np.ones` (https://numpy.org/doc/stable/reference/generated/numpy.ones.html)"
      ]
    },
    {
      "cell_type": "code",
      "execution_count": 13,
      "id": "86477874",
      "metadata": {
        "id": "86477874",
        "outputId": "9e606a2d-0a5e-4285-bf97-39301036ae44",
        "colab": {
          "base_uri": "https://localhost:8080/"
        }
      },
      "outputs": [
        {
          "output_type": "execute_result",
          "data": {
            "text/plain": [
              "array([1., 1., 1., 1., 1., 1., 1., 1., 1., 1.])"
            ]
          },
          "metadata": {},
          "execution_count": 13
        }
      ],
      "source": [
        "np.ones((10))"
      ]
    },
    {
      "cell_type": "markdown",
      "id": "0a708990",
      "metadata": {
        "id": "0a708990"
      },
      "source": [
        "#### Ejercicio 03: Investiga la función `linspace` de NumPy y crea un array que contenga 10 elementos (★☆☆)\n",
        "\n",
        "> NOTA: Revisa la función `np.linspace` (https://numpy.org/doc/stable/reference/generated/numpy.linspace.html)"
      ]
    },
    {
      "cell_type": "code",
      "execution_count": 22,
      "id": "477e01f4",
      "metadata": {
        "colab": {
          "base_uri": "https://localhost:8080/"
        },
        "id": "477e01f4",
        "outputId": "d1cf4e99-8eb2-4017-9c05-0269fb010565"
      },
      "outputs": [
        {
          "output_type": "execute_result",
          "data": {
            "text/plain": [
              "array([ 0.        ,  2.22222222,  4.44444444,  6.66666667,  8.88888889,\n",
              "       11.11111111, 13.33333333, 15.55555556, 17.77777778, 20.        ])"
            ]
          },
          "metadata": {},
          "execution_count": 22
        }
      ],
      "source": [
        "np.linspace(0,20,10)"
      ]
    },
    {
      "cell_type": "markdown",
      "id": "9794fe71",
      "metadata": {
        "id": "9794fe71"
      },
      "source": [
        "#### Ejercicio 04: Busca varias formas de generar un array con números aleatorios y crea un array 1D y dos arrays 2D (★★☆)\n",
        "\n",
        "> NOTA: Revisa las funciones `np.random.rand` (https://numpy.org/doc/stable/reference/random/generated/numpy.random.rand.html), `np.random.randint` (https://numpy.org/doc/stable/reference/random/generated/numpy.random.randint.html) y `np.random.randn` (https://numpy.org/doc/stable/reference/random/generated/numpy.random.randn.html)"
      ]
    },
    {
      "cell_type": "code",
      "execution_count": 40,
      "id": "3d9a48a7",
      "metadata": {
        "colab": {
          "base_uri": "https://localhost:8080/"
        },
        "id": "3d9a48a7",
        "outputId": "f0d3adaa-dcaf-46ae-e6a0-60ce5514d767"
      },
      "outputs": [
        {
          "output_type": "execute_result",
          "data": {
            "text/plain": [
              "array([[93, 48, 73],\n",
              "       [49, 90, 85],\n",
              "       [46,  6, 66]])"
            ]
          },
          "metadata": {},
          "execution_count": 40
        }
      ],
      "source": [
        "array1d=np .random.rand(3)\n",
        "array2d=np.random.randint(1,10,(2,2))\n",
        "array2d3ejemplo=np.random.randint(1,100,(3,3))\n",
        "\n",
        "array2d3ejemplo"
      ]
    },
    {
      "cell_type": "markdown",
      "id": "78a37e5c",
      "metadata": {
        "id": "78a37e5c"
      },
      "source": [
        "#### Ejercicio 05: Crea una matriz (array 2D) identidad de 5x5 (★☆☆)\n",
        "\n",
        "\n",
        "> NOTA: Revisa la función `np.eye`(https://numpy.org/devdocs/reference/generated/numpy.eye.html)"
      ]
    },
    {
      "cell_type": "code",
      "execution_count": 41,
      "id": "a6751106",
      "metadata": {
        "id": "a6751106",
        "outputId": "e9087996-dd58-4170-ad39-c1820701a0aa",
        "colab": {
          "base_uri": "https://localhost:8080/"
        }
      },
      "outputs": [
        {
          "output_type": "execute_result",
          "data": {
            "text/plain": [
              "array([[1., 0., 0., 0., 0.],\n",
              "       [0., 1., 0., 0., 0.],\n",
              "       [0., 0., 1., 0., 0.],\n",
              "       [0., 0., 0., 1., 0.],\n",
              "       [0., 0., 0., 0., 1.]])"
            ]
          },
          "metadata": {},
          "execution_count": 41
        }
      ],
      "source": [
        "np.eye(5)"
      ]
    },
    {
      "cell_type": "markdown",
      "id": "08bb63e6",
      "metadata": {
        "id": "08bb63e6"
      },
      "source": [
        "#### Ejercicio 06: Crea una matriz con números aleatorios de 3x2 y calcula el valor mínimo y máximo (★☆☆)\n",
        "\n",
        "> NOTA: Revisa la función `np.min` (https://numpy.org/devdocs/reference/generated/numpy.min.html) y `np.max` (https://numpy.org/devdocs/reference/generated/numpy.max.html)"
      ]
    },
    {
      "cell_type": "code",
      "execution_count": 53,
      "id": "3214cca1",
      "metadata": {
        "colab": {
          "base_uri": "https://localhost:8080/"
        },
        "id": "3214cca1",
        "outputId": "7ce5fc2e-1be4-428a-c97c-22c6bb8f506b"
      },
      "outputs": [
        {
          "output_type": "execute_result",
          "data": {
            "text/plain": [
              "0.7123482081123483"
            ]
          },
          "metadata": {},
          "execution_count": 53
        }
      ],
      "source": [
        "np.min(np.random.rand(3,2))\n",
        "np.max(np.random.rand(3,2))\n"
      ]
    },
    {
      "cell_type": "markdown",
      "id": "57c6c275",
      "metadata": {
        "id": "57c6c275"
      },
      "source": [
        "#### Ejercicio 07: Crea un vector con números aleatorios de 30 elementos y calcula la media (★☆☆)\n",
        "\n",
        "> NOTA: Revisa la función `np.mean` (https://numpy.org/doc/stable/reference/generated/numpy.mean.html)"
      ]
    },
    {
      "cell_type": "code",
      "execution_count": 55,
      "id": "cc960ba5",
      "metadata": {
        "id": "cc960ba5",
        "outputId": "c60b7363-b3c4-42b2-c869-d81b76e8f300",
        "colab": {
          "base_uri": "https://localhost:8080/"
        }
      },
      "outputs": [
        {
          "output_type": "execute_result",
          "data": {
            "text/plain": [
              "0.5377200674779749"
            ]
          },
          "metadata": {},
          "execution_count": 55
        }
      ],
      "source": [
        "Vector = np.random.rand(30)\n",
        "np.mean(Vector)"
      ]
    },
    {
      "cell_type": "markdown",
      "id": "2c801667",
      "metadata": {
        "id": "2c801667"
      },
      "source": [
        "#### Ejercicio 08: Convierte la lista `[1, 2, 3]` y la tupla `(1, 2, 3)` en arrays (★☆☆)"
      ]
    },
    {
      "cell_type": "code",
      "execution_count": 58,
      "id": "3f36c71c",
      "metadata": {
        "colab": {
          "base_uri": "https://localhost:8080/"
        },
        "id": "3f36c71c",
        "outputId": "e8431b77-a584-4f90-f1fb-20c5ee687521"
      },
      "outputs": [
        {
          "output_type": "execute_result",
          "data": {
            "text/plain": [
              "array([1, 2, 3])"
            ]
          },
          "metadata": {},
          "execution_count": 58
        }
      ],
      "source": [
        "np.array((1, 2, 3))\n",
        "np.array([1, 2, 3])"
      ]
    },
    {
      "cell_type": "markdown",
      "id": "962bb9fc",
      "metadata": {
        "id": "962bb9fc"
      },
      "source": [
        "### Operaciones entre arrays"
      ]
    },
    {
      "cell_type": "markdown",
      "id": "48d48f01",
      "metadata": {
        "id": "48d48f01"
      },
      "source": [
        "#### Ejercicio 09: Invierte el vector del ejercicio anterior (★☆☆)\n",
        "\n",
        "> NOTA: Revisa la función `np.flip` (https://numpy.org/doc/stable/reference/generated/numpy.flip.html)"
      ]
    },
    {
      "cell_type": "code",
      "execution_count": 59,
      "id": "d3e13052",
      "metadata": {
        "colab": {
          "base_uri": "https://localhost:8080/"
        },
        "id": "d3e13052",
        "outputId": "b3998e55-a23a-4d0b-d69e-4fe9bc65ee15"
      },
      "outputs": [
        {
          "output_type": "execute_result",
          "data": {
            "text/plain": [
              "array([3, 2, 1])"
            ]
          },
          "metadata": {},
          "execution_count": 59
        }
      ],
      "source": [
        "np.flip(np.array((1, 2, 3)))"
      ]
    },
    {
      "cell_type": "markdown",
      "id": "233addce",
      "metadata": {
        "id": "233addce"
      },
      "source": [
        "#### Ejercicio 10: Cambia el tamaño de un array aleatorio de dimensiones 5x12 en 12x5 (★☆☆)\n",
        "\n",
        "> NOTA: Revisa la función `np.reshape` (https://numpy.org/doc/stable/reference/generated/numpy.reshape.html)"
      ]
    },
    {
      "cell_type": "code",
      "execution_count": 60,
      "id": "bfaed09f",
      "metadata": {
        "id": "bfaed09f",
        "outputId": "a7127e2c-017b-42da-9e83-a53aa7a1bcde",
        "colab": {
          "base_uri": "https://localhost:8080/"
        }
      },
      "outputs": [
        {
          "output_type": "execute_result",
          "data": {
            "text/plain": [
              "array([[0.36373719, 0.95912104, 0.24072722, 0.29556805, 0.66470836],\n",
              "       [0.72911563, 0.65962712, 0.45832031, 0.20089655, 0.9345935 ],\n",
              "       [0.55232859, 0.61297045, 0.34205719, 0.97260304, 0.75493374],\n",
              "       [0.09502337, 0.5547214 , 0.99188353, 0.4061094 , 0.40481704],\n",
              "       [0.20868002, 0.18837375, 0.31077194, 0.76085599, 0.96023892],\n",
              "       [0.31164463, 0.12880108, 0.60026557, 0.7083412 , 0.67715771],\n",
              "       [0.24587967, 0.92981947, 0.15605535, 0.2675603 , 0.52056082],\n",
              "       [0.82831175, 0.93425781, 0.99700189, 0.48099111, 0.1459951 ],\n",
              "       [0.58937677, 0.83106312, 0.75507223, 0.3403505 , 0.28578059],\n",
              "       [0.68140881, 0.29338172, 0.55013183, 0.09071723, 0.57134465],\n",
              "       [0.14115633, 0.77579831, 0.64693438, 0.60299002, 0.36096903],\n",
              "       [0.56442684, 0.72408152, 0.68011383, 0.48645856, 0.08363822]])"
            ]
          },
          "metadata": {},
          "execution_count": 60
        }
      ],
      "source": [
        "np.random.rand(5,12).reshape(12,5)"
      ]
    },
    {
      "cell_type": "markdown",
      "id": "645e5381",
      "metadata": {
        "id": "645e5381"
      },
      "source": [
        "#### Ejercicio 11: Convierte la lista `[1, 2, 0, 0, 4, 0]` en un array y obtén el índice de los elementos que no son cero (★★☆)\n",
        "\n",
        "> NOTA: Revisa la función `np.where` (https://numpy.org/devdocs/reference/generated/numpy.where.html)"
      ]
    },
    {
      "cell_type": "code",
      "execution_count": 61,
      "id": "b2652fee",
      "metadata": {
        "id": "b2652fee",
        "outputId": "09140b22-bdda-4abc-f19d-a0a9cc196beb",
        "colab": {
          "base_uri": "https://localhost:8080/"
        }
      },
      "outputs": [
        {
          "output_type": "execute_result",
          "data": {
            "text/plain": [
              "(array([0, 1, 4]),)"
            ]
          },
          "metadata": {},
          "execution_count": 61
        }
      ],
      "source": [
        "arrayy= np.array([1, 2, 0, 0, 4, 0 ])\n",
        "np.where(arrayy != 0)"
      ]
    },
    {
      "cell_type": "markdown",
      "id": "e7948dbb",
      "metadata": {
        "id": "e7948dbb"
      },
      "source": [
        "#### Ejercicio 12: Convierte la lista `[0, 5, -1, 3, 15]` en un array, multiplica sus valores por `-2` y obtén los elementos pares (★★☆)"
      ]
    },
    {
      "cell_type": "code",
      "execution_count": 68,
      "metadata": {
        "id": "0jWL4JVP6XLM",
        "outputId": "70390993-70fe-46b3-a7a4-72a53bdf7785",
        "colab": {
          "base_uri": "https://localhost:8080/"
        }
      },
      "outputs": [
        {
          "output_type": "execute_result",
          "data": {
            "text/plain": [
              "array([  0, -10,   2,  -6, -30])"
            ]
          },
          "metadata": {},
          "execution_count": 68
        }
      ],
      "source": [
        "arrayy=np.array([0, 5, -1, 3, 15])\n",
        "arrayy=arrayy*-2\n",
        "arrayy[arrayy%2==0]\n",
        "arrayy"
      ],
      "id": "0jWL4JVP6XLM"
    },
    {
      "cell_type": "markdown",
      "id": "a90d6f3e",
      "metadata": {
        "id": "a90d6f3e"
      },
      "source": [
        "#### Ejercicio 13: Crea un vector aleatorio de 10 elementos y ordénalo de menor a mayor (★★☆)\n",
        "\n",
        "> NOTA: Revisa la función `np.sort` (https://numpy.org/doc/stable/reference/generated/numpy.sort.html)"
      ]
    },
    {
      "cell_type": "code",
      "execution_count": 72,
      "id": "bc373a83",
      "metadata": {
        "id": "bc373a83",
        "outputId": "57f6ffea-ed54-4468-8a1e-527dff16fbe8",
        "colab": {
          "base_uri": "https://localhost:8080/"
        }
      },
      "outputs": [
        {
          "output_type": "execute_result",
          "data": {
            "text/plain": [
              "array([0.01094982, 0.06459336, 0.24067083, 0.48413602, 0.60141795,\n",
              "       0.77260251, 0.85025007, 0.89216438, 0.97351324, 0.98993839])"
            ]
          },
          "metadata": {},
          "execution_count": 72
        }
      ],
      "source": [
        "np.sort(np.random.rand(10))"
      ]
    },
    {
      "cell_type": "markdown",
      "id": "5e9b6115",
      "metadata": {
        "id": "5e9b6115"
      },
      "source": [
        "#### Ejercicio 14: Genera dos vectores aleatorios de 8 elementos y aplica las operaciones de suma, resta y multiplicación entre ellos (★★☆)\n",
        "\n",
        "> NOTA: Revisa las funciones matemáticas: https://numpy.org/doc/stable/reference/routines.math.html"
      ]
    },
    {
      "cell_type": "code",
      "execution_count": 75,
      "id": "cc77e421",
      "metadata": {
        "id": "cc77e421",
        "outputId": "3df55e06-275b-4c11-eff4-8714be126bbb",
        "colab": {
          "base_uri": "https://localhost:8080/"
        }
      },
      "outputs": [
        {
          "output_type": "execute_result",
          "data": {
            "text/plain": [
              "array([2.29454807e-04, 7.52217473e-02, 1.41776578e-02, 5.43989593e-01,\n",
              "       2.66688199e-01, 1.73608844e-01, 7.67467511e-01, 5.57935921e-03])"
            ]
          },
          "metadata": {},
          "execution_count": 75
        }
      ],
      "source": [
        "n1=np.random.rand(8)+np.random.rand(8)\n",
        "n2=np.random.rand(8)-np.random.rand(8)\n",
        "n3=np.random.rand(8)*np.random.rand(8)\n",
        "\n",
        "n3"
      ]
    },
    {
      "cell_type": "markdown",
      "id": "c8e8daa0",
      "metadata": {
        "id": "c8e8daa0"
      },
      "source": [
        "#### Ejercicio 15: Convierte la lista `[1, 2, 3, 4, 5, 6, 7, 8, 9, 10, 11, 12]` en un array y transfórmalo en una matriz con filas de 3 columnas (★★★)"
      ]
    },
    {
      "cell_type": "code",
      "execution_count": 77,
      "metadata": {
        "id": "-AnMuqUu6XLT",
        "outputId": "a85a78ba-c4e9-4961-ec8b-c4bf6b02fa2c",
        "colab": {
          "base_uri": "https://localhost:8080/"
        }
      },
      "outputs": [
        {
          "output_type": "execute_result",
          "data": {
            "text/plain": [
              "array([[ 1,  2,  3],\n",
              "       [ 4,  5,  6],\n",
              "       [ 7,  8,  9],\n",
              "       [10, 11, 12]])"
            ]
          },
          "metadata": {},
          "execution_count": 77
        }
      ],
      "source": [
        "# prompt: np.reshape(np.array([1, 2, 3, 4, 5, 6, 7, 8, 9, 10, 11, 12]))\n",
        "\n",
        "import numpy as np\n",
        "\n",
        "np.reshape(np.array([1, 2, 3, 4, 5, 6, 7, 8, 9, 10, 11, 12]), (4,3))"
      ],
      "id": "-AnMuqUu6XLT"
    }
  ],
  "metadata": {
    "kernelspec": {
      "display_name": "Python 3",
      "language": "python",
      "name": "python3"
    },
    "language_info": {
      "codemirror_mode": {
        "name": "ipython",
        "version": 3
      },
      "file_extension": ".py",
      "mimetype": "text/x-python",
      "name": "python",
      "nbconvert_exporter": "python",
      "pygments_lexer": "ipython3",
      "version": "3.11.4"
    },
    "colab": {
      "provenance": []
    }
  },
  "nbformat": 4,
  "nbformat_minor": 5
}